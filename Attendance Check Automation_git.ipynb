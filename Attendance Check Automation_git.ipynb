{
 "cells": [
  {
   "cell_type": "markdown",
   "metadata": {},
   "source": [
    "# 1. Sort by names A - -Z"
   ]
  },
  {
   "cell_type": "code",
   "execution_count": 2,
   "metadata": {},
   "outputs": [
    {
     "name": "stdout",
     "output_type": "stream",
     "text": [
      "Data written from row 3, keeping column 1 unchanged, saved to: Attendance Check Example.xlsx\n"
     ]
    }
   ],
   "source": [
    "import pandas as pd\n",
    "from openpyxl import load_workbook\n",
    "\n",
    "file_path = \"Attendance Check Example.xlsx\"\n",
    "df = pd.read_excel(file_path, header=1, engine='openpyxl')\n",
    "\n",
    "df_sorted = df.sort_values(by='Name')\n",
    "\n",
    "wb = load_workbook(file_path)\n",
    "ws = wb.active\n",
    "\n",
    "# Clear original data from row 3, column 2 onward\n",
    "for row in range(3, ws.max_row + 1):\n",
    "    for col in range(2, ws.max_column + 1):\n",
    "        ws.cell(row=row, column=col).value = None\n",
    "\n",
    "# Write sorted data from row 3, column 2 onward\n",
    "for index, row in enumerate(df_sorted.itertuples(index=False), start=3):\n",
    "    for col_num, value in enumerate(row[1:], start=2):\n",
    "        ws.cell(row=index, column=col_num, value=value)\n",
    "\n",
    "wb.save(file_path)\n",
    "\n",
    "print(f\"Data written from row 3, keeping column 1 unchanged, saved to: {file_path}\")\n"
   ]
  },
  {
   "cell_type": "markdown",
   "metadata": {},
   "source": [
    "# 2. Verify count of absences and names before writing to the file\n"
   ]
  },
  {
   "cell_type": "code",
   "execution_count": 9,
   "metadata": {},
   "outputs": [
    {
     "name": "stdout",
     "output_type": "stream",
     "text": [
      "Number of check-ins: 38\n",
      "Index([              'No.',              'Name',        'Student ID',\n",
      "       2024-09-12 00:00:00, 2024-09-16 00:00:00, 2024-09-19 00:00:00,\n",
      "       2024-09-23 00:00:00, 2024-09-26 00:00:00, 2024-09-30 00:00:00,\n",
      "       2024-10-03 00:00:00, 2024-10-07 00:00:00,       'Unnamed: 11',\n",
      "             'Unnamed: 12',       'Unnamed: 13',       'Unnamed: 14',\n",
      "             'Unnamed: 15',       'Unnamed: 16',       'Unnamed: 17'],\n",
      "      dtype='object')\n",
      "Names in Excel but not in names_list: ['david', 'eve', 'frank', 'grace']\n",
      "Names in names_list but not in Excel: ['rudy', 'sara']\n",
      "       Name 2024-10-07 00:00:00\n",
      "0     Aaron                   P\n",
      "1     Alice                   P\n",
      "2       Amy                   P\n",
      "3     Bella                   P\n",
      "4       Bob                   P\n",
      "5   Charlie                   P\n",
      "6      Cody                   P\n",
      "7     David                    \n",
      "8     Diana                   P\n",
      "9     Ethan                   P\n",
      "10      Eve                    \n",
      "11    Fiona                   P\n",
      "12    Frank                    \n",
      "13   George                   P\n",
      "14    Grace                    \n",
      "15     Hank                   P\n",
      "16    Hazel                   P\n",
      "17    Isaac                   P\n",
      "18      Ivy                   P\n",
      "19     Jack                   P\n",
      "20  Jasmine                   P\n",
      "21     Kate                   P\n",
      "22    Kevin                   P\n",
      "23      Leo                   P\n",
      "24     Luna                   P\n",
      "25    Mason                   P\n",
      "26      Mia                   P\n",
      "27     Nina                   P\n",
      "28   Oliver                   P\n",
      "29     Paul                   P\n",
      "30    Quinn                   P\n",
      "31   Rachel                   P\n",
      "32      Sam                   P\n",
      "33     Tina                   P\n",
      "34      Uma                   P\n",
      "35   Victor                   P\n",
      "36    Wendy                   P\n",
      "37   Xander                   P\n",
      "38       Ya                   P\n",
      "39      Zoe                   P\n",
      "\n",
      " Number of 'P' in 2024-10-07 00:00:00: 36\n",
      "\n",
      " Absent students: ['David', 'Eve', 'Frank', 'Grace']\n"
     ]
    }
   ],
   "source": [
    "import pandas as pd\n",
    "\n",
    "# Define the list of names from OCR extraction\n",
    "names_list = [\n",
    "    \"Amy\", \"Alice\", \"Bob\", \"Charlie\", \n",
    "    \"Hank\", \"Ivy\", \"Jack\", \"Kate\", \"Leo\", \"Mia\", \"Nina\", \"Oliver\", \n",
    "    \"Paul\", \"Quinn\", \"Rachel\", \"Sam\", \"Tina\", \"Uma\", \"Victor\", \n",
    "    \"Wendy\", \"Xander\", \"Ya\", \"Zoe\", \"Aaron\", \"Bella\", \"Cody\", \n",
    "    \"Diana\", \"Ethan\", \"Fiona\", \"George\", \"Hazel\", \"Isaac\", \n",
    "    \"Jasmine\", \"Kevin\", \"Luna\", \"Mason\", \"Rudy\", \"Sara\",\n",
    "]\n",
    "\n",
    "\n",
    "\n",
    "print(f\"Number of check-ins: {len(names_list)}\")\n",
    "\n",
    "# Convert all names in names_list to lowercase for consistent comparison\n",
    "names_list_lower = [name.lower().strip() for name in names_list]\n",
    "\n",
    "\n",
    "\n",
    "# Load the Excel file and skip the first row to fix headers\n",
    "file_path = \"Attendance Check Example.xlsx\"\n",
    "df = pd.read_excel(file_path, header=1)\n",
    "\n",
    "# Get the column names\n",
    "print(df.columns)\n",
    "\n",
    "# Convert all column names to strings (since pandas might interpret dates as datetime objects)\n",
    "df.columns = df.columns.astype(str)\n",
    "\n",
    "# Get the column 'Name' from the Excel file and convert to lowercase\n",
    "excel_names_lower = df['Name'].str.lower().str.strip().tolist()\n",
    "\n",
    "# Find names that are in the Excel file but not in names_list\n",
    "missing_in_names_list = [name for name in excel_names_lower if name not in names_list_lower]\n",
    "\n",
    "# Find names that are in names_list but not in the Excel file\n",
    "missing_in_excel_file = [name for name in names_list_lower if name not in excel_names_lower]\n",
    "\n",
    "print(\"Names in Excel but not in names_list:\", missing_in_names_list)\n",
    "print(\"Names in names_list but not in Excel:\", missing_in_excel_file)\n",
    "\n",
    "\n",
    "\n",
    "# Only select Columns 'Name' and date in df that needs to be updated\n",
    "date = '2024-10-07 00:00:00'\n",
    "df = df[['Name', date]] \n",
    "\n",
    "# empty the column values in the date column\n",
    "df[date] = \"\"\n",
    "\n",
    "\n",
    "# Loop through names_list and check if each name exists in df['Name'] \n",
    "\n",
    "for name in names_list:\n",
    "    # Use loc to select rows where the name matches and update the '2024-09-12 00:00:00' column  使用 loc 和 str.contains 来选择包含 name 的行，并更新 '2024-09-12 00:00:00' 列的值为 'P'\n",
    "    df.loc[df['Name'].str.contains(name, na=False, case=False), date] = 'P'\n",
    "    '''\n",
    "    1) df.loc[...] 是 pandas 的定位器, 用来根据行和列的标签来选择数据 df.loc[row_selection, column_selection]  eg df.loc[0, 'Name']  # 选择第 0 行 'Name' 列的值  df.loc[df['Age'] > 30, 'Name']  # 选择 Age 大于 30 的行的 'Name' 列\n",
    "    2) df['Name'].str.contains(name, na=False)。 str.contains() 是用于字符串匹配的一个方法。它会检查 df['Name'] 列的每个值是否包含传入的子字符串 name，并返回一个布尔型序列（即每个值是否包含 name，返回 True 或 False）。\n",
    "        na=False 的作用是将所有的 NaN 值视为 False，从而确保在执行 str.contains() 时，忽略这些空值，并避免因为 NaN 而导致程序出错。因为pandas 的 str.contains() 方法默认会将 NaN 视为 NaN，而不是布尔值。如果数据中存在 NaN，那么 contains() 方法将返回 NaN，这会导致无法进行布尔操作。\n",
    "        case insensitive 意味着不区分大小写，即不管 name 是大写还是小写，都会被匹配到。    \n",
    "    3) df.loc[...] = 'P' 是将选中的行的 '2024-09-12 00:00:00' 列的值更新为 'P'\n",
    "    '''\n",
    "\n",
    "\n",
    "\n",
    "\n",
    "print(df)\n",
    "\n",
    "# count the number of 'P' in the '2024-09-12 00:00:00' column\n",
    "print(f\"\\n Number of 'P' in {date}: {df[date].str.count('P').sum()}\")\n",
    "\n",
    "# tell the name of the students who are absent\n",
    "absent_students = df[df[date] != 'P']['Name'].tolist()\n",
    "print(f\"\\n Absent students: {absent_students}\")\n"
   ]
  },
  {
   "cell_type": "markdown",
   "metadata": {},
   "source": [
    "# 3. Update the file and keep the rest part intact"
   ]
  },
  {
   "cell_type": "code",
   "execution_count": 10,
   "metadata": {},
   "outputs": [
    {
     "name": "stdout",
     "output_type": "stream",
     "text": [
      "Data written to '2024-10-07 00:00:00' column and saved to Attendance Check Example.xlsx\n"
     ]
    }
   ],
   "source": [
    "from datetime import datetime\n",
    "from openpyxl import load_workbook\n",
    "\n",
    "wb = load_workbook(file_path)\n",
    "ws = wb.active\n",
    "\n",
    "target_column = None\n",
    "\n",
    "# Find the target datetime column\n",
    "for col in ws.iter_cols(1, ws.max_column):\n",
    "    if str(col[1].value) == date:\n",
    "        target_column = col[0].column\n",
    "        break\n",
    "\n",
    "# Update values if target column is found\n",
    "if target_column is not None:\n",
    "    for idx, value in enumerate(df[date], start=3):\n",
    "        ws.cell(row=idx, column=target_column).value = value\n",
    "\n",
    "    wb.save(file_path)\n",
    "    print(f\"Data written to '{date}' column and saved to {file_path}\")\n",
    "else:\n",
    "    print(f\"Date column '{date}' not found\")\n"
   ]
  },
  {
   "cell_type": "markdown",
   "metadata": {},
   "source": [
    "# 4. Color Absence in Red and accumulate absence times for each person"
   ]
  },
  {
   "cell_type": "code",
   "execution_count": 11,
   "metadata": {},
   "outputs": [
    {
     "name": "stdout",
     "output_type": "stream",
     "text": [
      "Data written and absences marked in Attendance Check Example.xlsx\n"
     ]
    }
   ],
   "source": [
    "from openpyxl.styles import PatternFill\n",
    "\n",
    "# Load Excel workbook\n",
    "wb = load_workbook(file_path)\n",
    "ws = wb.active\n",
    "\n",
    "# Define red fill for absences\n",
    "red_fill = PatternFill(start_color=\"FF0000\", end_color=\"FF0000\", fill_type=\"solid\")\n",
    "\n",
    "# Find target column matching 'date'\n",
    "target_column = None\n",
    "for col in ws.iter_cols(1, ws.max_column):\n",
    "    if str(col[1].value) == date:\n",
    "        target_column = col[0].column\n",
    "        break\n",
    "\n",
    "# Update if target column is found\n",
    "if target_column is not None:\n",
    "    absence_count = {}\n",
    "    last_column = ws.max_column + 1\n",
    "    ws.cell(row=2, column=last_column).value = \"Absence Count\"\n",
    "\n",
    "    for idx, value in enumerate(df[date], start=3):\n",
    "        cell = ws.cell(row=idx, column=target_column)\n",
    "        student_name = ws.cell(row=idx, column=2).value\n",
    "\n",
    "        # Mark absent cells in red and update absence count\n",
    "        if value != 'P':\n",
    "            cell.fill = red_fill\n",
    "            absence_count[student_name] = absence_count.get(student_name, 0) + 1\n",
    "            ws.cell(row=idx, column=last_column).value = absence_count[student_name]\n",
    "        else:\n",
    "            ws.cell(row=idx, column=last_column).value = absence_count.get(student_name, 0)\n",
    "\n",
    "        cell.value = value\n",
    "\n",
    "    wb.save(file_path)\n",
    "    print(f\"Data written and absences marked in {file_path}\")\n",
    "\n",
    "else:\n",
    "    print(f\"Date column '{date}' not found\")\n"
   ]
  }
 ],
 "metadata": {
  "kernelspec": {
   "display_name": "elementary",
   "language": "python",
   "name": "python3"
  },
  "language_info": {
   "codemirror_mode": {
    "name": "ipython",
    "version": 3
   },
   "file_extension": ".py",
   "mimetype": "text/x-python",
   "name": "python",
   "nbconvert_exporter": "python",
   "pygments_lexer": "ipython3",
   "version": "3.11.9"
  }
 },
 "nbformat": 4,
 "nbformat_minor": 2
}
